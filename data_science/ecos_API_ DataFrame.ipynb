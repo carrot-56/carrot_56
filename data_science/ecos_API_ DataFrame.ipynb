{
 "cells": [
  {
   "cell_type": "code",
   "execution_count": null,
   "metadata": {
    "id": "ndXlUtkV9160"
   },
   "outputs": [],
   "source": [
    "import pandas as pd\n",
    "import numpy as np\n",
    "import matplotlib as plt\n",
    "import requests\n",
    "import xml.etree.ElementTree as ET"
   ]
  },
  {
   "cell_type": "code",
   "execution_count": null,
   "metadata": {
    "id": "Flr3dfzB-hJ-"
   },
   "outputs": [],
   "source": [
    " import requests\n",
    " import xml.etree.ElementTree as ET"
   ]
  },
  {
   "cell_type": "code",
   "execution_count": null,
   "metadata": {
    "id": "dMPfY6xFhZG1"
   },
   "outputs": [],
   "source": [
    "# ecos 통계를 API로 가져와 DataFrame으로 만드는 작업을 함수로 설정하여 ecos openAPI를 참고한 후 활용 가능할 것으로 생각함\n",
    "def auto(url):\n",
    "  response = requests.get(url)\n",
    "  contents = response.text\n",
    "  item_value = contents.split('</ITEM_CODE1>')\n",
    "  data_value = contents.split('</DATA_VALUE>')\n",
    "  time_value = contents.split('</TIME>')\n",
    "  item_value_list = []\n",
    "  # item_value를 가져오는 방법, 통계표코드\n",
    "  for i in item_value:\n",
    "    line1 = i\n",
    "    line2 = line1.split('<ITEM_CODE1>')\n",
    "    line3 = line2[-1]\n",
    "    if '/' not in line3:\n",
    "      item_value_list.append(line3)\n",
    "    else:\n",
    "      del line3\n",
    "\n",
    "    # data_value를 가져오는 방법\n",
    "  data_value_list = []\n",
    "  for i in data_value:\n",
    "    line1 = i\n",
    "    line2 = line1.split('<DATA_VALUE>')\n",
    "    line3 = line2[-1]\n",
    "    if '/' not in line3:\n",
    "      data_value_list.append(line3)\n",
    "    else:\n",
    "      del line3\n",
    "\n",
    "    #Time value 가져오는 방법\n",
    "  time_value_list = []\n",
    "  for i in time_value:\n",
    "    line1 = i\n",
    "    line2 = line1.split('<TIME>')\n",
    "    line3 = line2[-1]\n",
    "    if '/' not in line3:\n",
    "      time_value_list.append(line3)\n",
    "    else:\n",
    "      del line3\n",
    "  global dataframe\n",
    "  dataframe = pd.DataFrame((zip(item_value_list, time_value_list, data_value_list)), columns = ['code', 'Month', 'Value'])"
   ]
  },
  {
   "cell_type": "code",
   "execution_count": null,
   "metadata": {
    "id": "ImaEa_09GbYG"
   },
   "outputs": [],
   "source": [
    "## 호출하려는 OpenAPI URL을 정의합니다.\n",
    "# OpenAPI의 통계표 형식을 확인하여 Url 작성 시행\n",
    "#한국은행 기준금리 및 여수신금리\n",
    "#url = 'https://ecos.bok.or.kr/api/StatisticSearch/sample/xml/kr/1/1500/098Y001/MM/19500101/20220303/0101000/?/?'"
   ]
  },
  {
   "cell_type": "code",
   "execution_count": null,
   "metadata": {
    "id": "k0DUznS1iVus"
   },
   "outputs": [],
   "source": [
    "# 함수로 작성해놓아 url 입력 후 실행 시 dataframe이라는 변수명에 저장되어 있음\n",
    "auto(url)"
   ]
  },
  {
   "cell_type": "code",
   "execution_count": null,
   "metadata": {
    "id": "T9l4wtw7jKFe"
   },
   "outputs": [],
   "source": [
    "# auto함수 실행 후 dataframe 변수를 다른 데이트 프레임에 저장함\n",
    "sobimul_service_month = dataframe"
   ]
  },
  {
   "cell_type": "code",
   "execution_count": null,
   "metadata": {
    "id": "ur0S2KXOGnN_"
   },
   "outputs": [],
   "source": [
    "# 아래는 최초로 작업할 때 ecos open api를 참고하여 함수를 만들기 전까지 세부 데이터 및 parsing을 진행하기 위해 확인한 내용\n",
    "# 정의된 OpenAPI URL을 호출합니다.\n",
    "response = requests.get(url)"
   ]
  },
  {
   "cell_type": "code",
   "execution_count": null,
   "metadata": {
    "id": "sb8Fbx-YfBK2"
   },
   "outputs": [],
   "source": [
    "contents = response.text"
   ]
  },
  {
   "cell_type": "code",
   "execution_count": null,
   "metadata": {
    "id": "z8L0WqHkG7P2"
   },
   "outputs": [],
   "source": [
    "if response.status_code == 200:\n",
    "  try:\n",
    "    contents = response.text\n",
    "    ecosRoot = ET.fromstring(contents)\n",
    "\n",
    "    ## 호출결과에 오류가 있었는지 확인합니다.\n",
    "    if ecosRoot[0].text[:4] in ('INFO', 'ERRO'):\n",
    "      print(ecosRoot[0].text + \" : \" + ecosRoot[1].text)\n",
    "    else:\n",
    "      print(contents)\n",
    "      # 결과값을 활용하여 필요한 프로그램을 작성합니다.\n",
    "  except Exception as e:\n",
    "    print(str(e))"
   ]
  },
  {
   "cell_type": "code",
   "execution_count": 1,
   "metadata": {
    "colab": {
     "base_uri": "https://localhost:8080/",
     "height": 219
    },
    "executionInfo": {
     "elapsed": 1594,
     "status": "ok",
     "timestamp": 1652162817885,
     "user": {
      "displayName": "이우진(일반대학원 의료법.윤리학협동과정)",
      "userId": "13044369534370322407"
     },
     "user_tz": -540
    },
    "id": "p55m1q15PG-p",
    "outputId": "0ff6f0b2-b9f7-4c88-c180-da9a7a3b5b09"
   },
   "outputs": [
    {
     "ename": "NameError",
     "evalue": "name 'contents' is not defined",
     "output_type": "error",
     "traceback": [
      "\u001b[0;31m---------------------------------------------------------------------------\u001b[0m",
      "\u001b[0;31mNameError\u001b[0m                                 Traceback (most recent call last)",
      "\u001b[0;32m/var/folders/9k/j_6fb8fx213c5wnjc93mzmtw0000gn/T/ipykernel_17567/3137558108.py\u001b[0m in \u001b[0;36m<module>\u001b[0;34m\u001b[0m\n\u001b[0;32m----> 1\u001b[0;31m \u001b[0mcontents\u001b[0m\u001b[0;34m\u001b[0m\u001b[0;34m\u001b[0m\u001b[0m\n\u001b[0m",
      "\u001b[0;31mNameError\u001b[0m: name 'contents' is not defined"
     ]
    }
   ],
   "source": [
    "contents"
   ]
  },
  {
   "cell_type": "code",
   "execution_count": null,
   "metadata": {
    "colab": {
     "base_uri": "https://localhost:8080/"
    },
    "executionInfo": {
     "elapsed": 272,
     "status": "ok",
     "timestamp": 1652160177969,
     "user": {
      "displayName": "이우진(일반대학원 의료법.윤리학협동과정)",
      "userId": "13044369534370322407"
     },
     "user_tz": -540
    },
    "id": "j8MHLqUgQQNT",
    "outputId": "1dc99bf1-3127-4864-9789-64a001f9dbfd"
   },
   "outputs": [
    {
     "data": {
      "text/plain": [
       "str"
      ]
     },
     "execution_count": 79,
     "metadata": {},
     "output_type": "execute_result"
    }
   ],
   "source": [
    "type(contents)"
   ]
  },
  {
   "cell_type": "code",
   "execution_count": null,
   "metadata": {
    "id": "7ZOQSdZtbnN8"
   },
   "outputs": [],
   "source": [
    "item_value = contents.split('</ITEM_CODE1>')"
   ]
  },
  {
   "cell_type": "code",
   "execution_count": null,
   "metadata": {
    "id": "lJuj2jhuR-ck"
   },
   "outputs": [],
   "source": [
    "data_value = contents.split('</DATA_VALUE>')"
   ]
  },
  {
   "cell_type": "code",
   "execution_count": null,
   "metadata": {
    "id": "DG49pnJRXfuF"
   },
   "outputs": [],
   "source": [
    "time_value = contents.split('</TIME>')"
   ]
  },
  {
   "cell_type": "code",
   "execution_count": null,
   "metadata": {
    "id": "Jucfo7W_bvlT"
   },
   "outputs": [],
   "source": [
    "# item_value를 가져오는 방법, 통계표코드\n",
    "item_value_list = []\n",
    "for i in item_value:\n",
    "  line1 = i\n",
    "  line2 = line1.split('<ITEM_CODE1>')\n",
    "  line3 = line2[-1]\n",
    "  if '/' not in line3:\n",
    "    item_value_list.append(line3)\n",
    "  else:\n",
    "    del line3\n"
   ]
  },
  {
   "cell_type": "code",
   "execution_count": null,
   "metadata": {
    "id": "SArFEsCbUNWO"
   },
   "outputs": [],
   "source": [
    "# data_value를 가져오는 방법\n",
    "data_value_list = []\n",
    "for i in data_value:\n",
    "  line1 = i\n",
    "  line2 = line1.split('<DATA_VALUE>')\n",
    "  line3 = line2[-1]\n",
    "  if '/' not in line3:\n",
    "    data_value_list.append(line3)\n",
    "  else:\n",
    "    del line3\n"
   ]
  },
  {
   "cell_type": "code",
   "execution_count": null,
   "metadata": {
    "id": "AbHh8-0XUwoU"
   },
   "outputs": [],
   "source": [
    "#Time value 가져오는 방법\n",
    "time_value_list = []\n",
    "for i in time_value:\n",
    "  line1 = i\n",
    "  line2 = line1.split('<TIME>')\n",
    "  line3 = line2[-1]\n",
    "  if '/' not in line3:\n",
    "    time_value_list.append(int(line3))\n",
    "  else:\n",
    "    del line3"
   ]
  },
  {
   "cell_type": "code",
   "execution_count": null,
   "metadata": {
    "colab": {
     "base_uri": "https://localhost:8080/"
    },
    "executionInfo": {
     "elapsed": 282,
     "status": "ok",
     "timestamp": 1652166689423,
     "user": {
      "displayName": "이우진(일반대학원 의료법.윤리학협동과정)",
      "userId": "13044369534370322407"
     },
     "user_tz": -540
    },
    "id": "BxphBK32zrr1",
    "outputId": "6300a1f4-b244-4e5e-d165-4937f7482b13"
   },
   "outputs": [
    {
     "data": {
      "text/plain": [
       "int"
      ]
     },
     "execution_count": 244,
     "metadata": {},
     "output_type": "execute_result"
    }
   ],
   "source": [
    "time_value_list\n",
    "type(time_value_list[0])"
   ]
  },
  {
   "cell_type": "code",
   "execution_count": null,
   "metadata": {
    "id": "9QP9_VUsYlXS"
   },
   "outputs": [],
   "source": [
    "# 경상수지 DF\n",
    "suzi_month = pd.DataFrame((zip(item_value_list, time_value_list, data_value_list)), columns = ['code', 'Month', 'Value'])\n"
   ]
  }
 ],
 "metadata": {
  "colab": {
   "authorship_tag": "ABX9TyO2kF1nBDQ8aBoLl8NVyP0/",
   "collapsed_sections": [],
   "name": "ecos 통계 API로 가져와서 DataFrame로 만들기",
   "provenance": [
    {
     "file_id": "1nBXRKoGWtyYKCvLgPOFeLayHb1kZYWRT",
     "timestamp": 1652741241536
    }
   ]
  },
  "kernelspec": {
   "display_name": "Python 3 (ipykernel)",
   "language": "python",
   "name": "python3"
  },
  "language_info": {
   "codemirror_mode": {
    "name": "ipython",
    "version": 3
   },
   "file_extension": ".py",
   "mimetype": "text/x-python",
   "name": "python",
   "nbconvert_exporter": "python",
   "pygments_lexer": "ipython3",
   "version": "3.9.7"
  }
 },
 "nbformat": 4,
 "nbformat_minor": 1
}
